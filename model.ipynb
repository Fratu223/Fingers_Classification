{
 "cells": [
  {
   "cell_type": "code",
   "execution_count": 1,
   "metadata": {},
   "outputs": [],
   "source": [
    "from sklearn.model_selection import train_test_split\n",
    "from creating_classes import load_data\n",
    "from keras.utils import to_categorical"
   ]
  },
  {
   "cell_type": "code",
   "execution_count": 2,
   "metadata": {},
   "outputs": [],
   "source": [
    "train_folders = ['zero_train', 'one_train', 'two_train', 'three_train', 'four_train', 'five_train']\n",
    "test_folders = ['zero_test', 'one_test', 'two_test', 'three_test', 'four_test', 'five_test']\n",
    "\n",
    "X_train, y_train = load_data(train_folders)\n",
    "X_test, y_test = load_data(test_folders)\n",
    "\n",
    "X_train = X_train / 255.0\n",
    "X_test = X_test / 255.0\n",
    "\n",
    "y_train = to_categorical(y_train, num_classes=6)\n",
    "y_test = to_categorical(y_test, num_classes=6)\n",
    "\n",
    "X_train, X_val, y_train, y_val = train_test_split(X_train, y_train, test_size=0.2, random_state=42)"
   ]
  },
  {
   "cell_type": "code",
   "execution_count": 3,
   "metadata": {},
   "outputs": [
    {
     "name": "stdout",
     "output_type": "stream",
     "text": [
      "Model: \"sequential\"\n",
      "_________________________________________________________________\n",
      " Layer (type)                Output Shape              Param #   \n",
      "=================================================================\n",
      " flatten (Flatten)           (None, 12288)             0         \n",
      "                                                                 \n",
      " dense (Dense)               (None, 128)               1572992   \n",
      "                                                                 \n",
      " dense_1 (Dense)             (None, 64)                8256      \n",
      "                                                                 \n",
      " dense_2 (Dense)             (None, 32)                2080      \n",
      "                                                                 \n",
      " dense_3 (Dense)             (None, 6)                 198       \n",
      "                                                                 \n",
      "=================================================================\n",
      "Total params: 1,583,526\n",
      "Trainable params: 1,583,526\n",
      "Non-trainable params: 0\n",
      "_________________________________________________________________\n"
     ]
    }
   ],
   "source": [
    "from keras.layers import Dense, Flatten\n",
    "from keras.models import Sequential\n",
    "\n",
    "model = Sequential([\n",
    "    Flatten(input_shape=(64, 64, 3)),  \n",
    "    Dense(128, activation='relu'),\n",
    "    Dense(64, activation='relu'),\n",
    "    Dense(32, activation='relu'),\n",
    "    Dense(6, activation='softmax') \n",
    "])\n",
    "\n",
    "model.compile(optimizer='adam', loss='categorical_crossentropy', metrics=['accuracy'])\n",
    "\n",
    "model.summary()"
   ]
  },
  {
   "cell_type": "code",
   "execution_count": 4,
   "metadata": {},
   "outputs": [
    {
     "name": "stdout",
     "output_type": "stream",
     "text": [
      "Epoch 1/20\n",
      "450/450 [==============================] - 12s 22ms/step - loss: 0.3027 - accuracy: 0.9080 - val_loss: 0.0440 - val_accuracy: 0.9889\n",
      "Epoch 2/20\n",
      "450/450 [==============================] - 7s 17ms/step - loss: 0.0494 - accuracy: 0.9853 - val_loss: 0.0222 - val_accuracy: 0.9919\n",
      "Epoch 3/20\n",
      "450/450 [==============================] - 7s 16ms/step - loss: 0.0143 - accuracy: 0.9960 - val_loss: 0.0034 - val_accuracy: 0.9994\n",
      "Epoch 4/20\n",
      "450/450 [==============================] - 8s 17ms/step - loss: 0.0135 - accuracy: 0.9953 - val_loss: 0.0066 - val_accuracy: 0.9981\n",
      "Epoch 5/20\n",
      "450/450 [==============================] - 8s 17ms/step - loss: 0.0258 - accuracy: 0.9917 - val_loss: 0.0021 - val_accuracy: 0.9994\n",
      "Epoch 6/20\n",
      "450/450 [==============================] - 7s 16ms/step - loss: 0.0252 - accuracy: 0.9931 - val_loss: 0.0053 - val_accuracy: 0.9986\n",
      "Epoch 7/20\n",
      "450/450 [==============================] - 8s 17ms/step - loss: 0.0099 - accuracy: 0.9972 - val_loss: 0.0051 - val_accuracy: 0.9989\n"
     ]
    }
   ],
   "source": [
    "from keras.callbacks import EarlyStopping\n",
    "\n",
    "history = model.fit(X_train, y_train, epochs=20, batch_size=32, validation_data=(X_val, y_val), callbacks=EarlyStopping(\"val_loss\", patience=2, restore_best_weights=True))"
   ]
  },
  {
   "cell_type": "code",
   "execution_count": 5,
   "metadata": {},
   "outputs": [
    {
     "name": "stdout",
     "output_type": "stream",
     "text": [
      "113/113 [==============================] - 1s 5ms/step - loss: 0.0073 - accuracy: 0.9975\n",
      "Test accuracy: 99.75%\n"
     ]
    }
   ],
   "source": [
    "test_loss, test_accuracy = model.evaluate(X_test, y_test)\n",
    "print(f\"Test accuracy: {test_accuracy * 100:.2f}%\")"
   ]
  },
  {
   "cell_type": "code",
   "execution_count": 6,
   "metadata": {},
   "outputs": [],
   "source": [
    "model.save('model.h5')"
   ]
  }
 ],
 "metadata": {
  "kernelspec": {
   "display_name": "fingers_classification",
   "language": "python",
   "name": "python3"
  },
  "language_info": {
   "codemirror_mode": {
    "name": "ipython",
    "version": 3
   },
   "file_extension": ".py",
   "mimetype": "text/x-python",
   "name": "python",
   "nbconvert_exporter": "python",
   "pygments_lexer": "ipython3",
   "version": "3.10.13"
  }
 },
 "nbformat": 4,
 "nbformat_minor": 2
}
