{
 "cells": [
  {
   "cell_type": "code",
   "execution_count": 1,
   "metadata": {},
   "outputs": [],
   "source": [
    "from sklearn.model_selection import train_test_split\n",
    "from creating_classes import load_data\n",
    "from keras.utils import to_categorical"
   ]
  },
  {
   "cell_type": "code",
   "execution_count": 2,
   "metadata": {},
   "outputs": [],
   "source": [
    "train_folders = ['zero_train', 'one_train', 'two_train', 'three_train', 'four_train', 'five_train']\n",
    "test_folders = ['zero_test', 'one_test', 'two_test', 'three_test', 'four_test', 'five_test']\n",
    "\n",
    "X_train, y_train = load_data(train_folders)\n",
    "X_test, y_test = load_data(test_folders)\n",
    "\n",
    "X_train = X_train / 255.0\n",
    "X_test = X_test / 255.0\n",
    "\n",
    "y_train = to_categorical(y_train, num_classes=6)\n",
    "y_test = to_categorical(y_test, num_classes=6)\n",
    "\n",
    "X_train, X_val, y_train, y_val = train_test_split(X_train, y_train, test_size=0.2, random_state=42)"
   ]
  },
  {
   "cell_type": "code",
   "execution_count": 3,
   "metadata": {},
   "outputs": [
    {
     "name": "stdout",
     "output_type": "stream",
     "text": [
      "Model: \"sequential\"\n",
      "_________________________________________________________________\n",
      " Layer (type)                Output Shape              Param #   \n",
      "=================================================================\n",
      " flatten (Flatten)           (None, 12288)             0         \n",
      "                                                                 \n",
      " dense (Dense)               (None, 128)               1572992   \n",
      "                                                                 \n",
      " dense_1 (Dense)             (None, 64)                8256      \n",
      "                                                                 \n",
      " dense_2 (Dense)             (None, 32)                2080      \n",
      "                                                                 \n",
      " dense_3 (Dense)             (None, 6)                 198       \n",
      "                                                                 \n",
      "=================================================================\n",
      "Total params: 1,583,526\n",
      "Trainable params: 1,583,526\n",
      "Non-trainable params: 0\n",
      "_________________________________________________________________\n"
     ]
    }
   ],
   "source": [
    "from keras.layers import Dense, Flatten\n",
    "from keras.models import Sequential\n",
    "\n",
    "model = Sequential([\n",
    "    Flatten(input_shape=(64, 64, 3)),  # Flatten the input\n",
    "    Dense(128, activation='relu'),\n",
    "    Dense(64, activation='relu'),\n",
    "    Dense(32, activation='relu'),\n",
    "    Dense(6, activation='softmax')  # Output layer for 6 classes\n",
    "])\n",
    "\n",
    "model.compile(optimizer='adam', loss='categorical_crossentropy', metrics=['accuracy'])\n",
    "\n",
    "model.summary()"
   ]
  },
  {
   "cell_type": "code",
   "execution_count": 4,
   "metadata": {},
   "outputs": [
    {
     "name": "stdout",
     "output_type": "stream",
     "text": [
      "Epoch 1/20\n",
      "450/450 [==============================] - 7s 14ms/step - loss: 0.3423 - accuracy: 0.8934 - val_loss: 0.0787 - val_accuracy: 0.9753\n",
      "Epoch 2/20\n",
      "450/450 [==============================] - 6s 14ms/step - loss: 0.0351 - accuracy: 0.9902 - val_loss: 0.0489 - val_accuracy: 0.9817\n",
      "Epoch 3/20\n",
      "450/450 [==============================] - 6s 13ms/step - loss: 0.0244 - accuracy: 0.9920 - val_loss: 0.0074 - val_accuracy: 0.9986\n",
      "Epoch 4/20\n",
      "450/450 [==============================] - 6s 13ms/step - loss: 0.0096 - accuracy: 0.9967 - val_loss: 0.0077 - val_accuracy: 0.9978\n",
      "Epoch 5/20\n",
      "450/450 [==============================] - 6s 13ms/step - loss: 0.0300 - accuracy: 0.9895 - val_loss: 0.0058 - val_accuracy: 0.9989\n",
      "Epoch 6/20\n",
      "450/450 [==============================] - 6s 14ms/step - loss: 0.0106 - accuracy: 0.9967 - val_loss: 0.0175 - val_accuracy: 0.9961\n",
      "Epoch 7/20\n",
      "450/450 [==============================] - 6s 13ms/step - loss: 0.0046 - accuracy: 0.9984 - val_loss: 0.0063 - val_accuracy: 0.9981\n",
      "Epoch 8/20\n",
      "450/450 [==============================] - 6s 14ms/step - loss: 0.0224 - accuracy: 0.9918 - val_loss: 0.0012 - val_accuracy: 1.0000\n",
      "Epoch 9/20\n",
      "450/450 [==============================] - 6s 14ms/step - loss: 0.0153 - accuracy: 0.9957 - val_loss: 0.0014 - val_accuracy: 0.9994\n",
      "Epoch 10/20\n",
      "450/450 [==============================] - 6s 13ms/step - loss: 0.0018 - accuracy: 0.9994 - val_loss: 9.9973e-04 - val_accuracy: 0.9997\n",
      "Epoch 11/20\n",
      "450/450 [==============================] - 6s 13ms/step - loss: 0.0158 - accuracy: 0.9944 - val_loss: 0.0669 - val_accuracy: 0.9778\n",
      "Epoch 12/20\n",
      "450/450 [==============================] - 6s 14ms/step - loss: 0.0069 - accuracy: 0.9984 - val_loss: 0.0077 - val_accuracy: 0.9972\n",
      "Epoch 13/20\n",
      "450/450 [==============================] - 6s 14ms/step - loss: 9.3841e-04 - accuracy: 0.9997 - val_loss: 0.0055 - val_accuracy: 0.9975\n",
      "Epoch 14/20\n",
      "450/450 [==============================] - 6s 13ms/step - loss: 0.0306 - accuracy: 0.9897 - val_loss: 0.0029 - val_accuracy: 0.9989\n",
      "Epoch 15/20\n",
      "450/450 [==============================] - 6s 14ms/step - loss: 0.0023 - accuracy: 0.9993 - val_loss: 0.0066 - val_accuracy: 0.9981\n",
      "Epoch 16/20\n",
      "450/450 [==============================] - 6s 14ms/step - loss: 0.0016 - accuracy: 0.9996 - val_loss: 0.0014 - val_accuracy: 0.9997\n",
      "Epoch 17/20\n",
      "450/450 [==============================] - 6s 13ms/step - loss: 1.5394e-04 - accuracy: 1.0000 - val_loss: 6.9706e-04 - val_accuracy: 0.9997\n",
      "Epoch 18/20\n",
      "450/450 [==============================] - 6s 14ms/step - loss: 0.0283 - accuracy: 0.9933 - val_loss: 0.0031 - val_accuracy: 0.9986\n",
      "Epoch 19/20\n",
      "450/450 [==============================] - 6s 14ms/step - loss: 5.9852e-04 - accuracy: 0.9999 - val_loss: 0.0020 - val_accuracy: 0.9994\n",
      "Epoch 20/20\n",
      "450/450 [==============================] - 6s 14ms/step - loss: 5.3992e-04 - accuracy: 0.9999 - val_loss: 0.0035 - val_accuracy: 0.9983\n"
     ]
    }
   ],
   "source": [
    "history = model.fit(X_train, y_train, epochs=20, batch_size=32, validation_data=(X_val, y_val))"
   ]
  },
  {
   "cell_type": "code",
   "execution_count": 5,
   "metadata": {},
   "outputs": [
    {
     "name": "stdout",
     "output_type": "stream",
     "text": [
      "113/113 [==============================] - 0s 4ms/step - loss: 0.0071 - accuracy: 0.9975\n",
      "Test accuracy: 99.75%\n"
     ]
    }
   ],
   "source": [
    "test_loss, test_accuracy = model.evaluate(X_test, y_test)\n",
    "print(f\"Test accuracy: {test_accuracy * 100:.2f}%\")"
   ]
  }
 ],
 "metadata": {
  "kernelspec": {
   "display_name": "fingers_classification",
   "language": "python",
   "name": "python3"
  },
  "language_info": {
   "codemirror_mode": {
    "name": "ipython",
    "version": 3
   },
   "file_extension": ".py",
   "mimetype": "text/x-python",
   "name": "python",
   "nbconvert_exporter": "python",
   "pygments_lexer": "ipython3",
   "version": "3.10.13"
  }
 },
 "nbformat": 4,
 "nbformat_minor": 2
}
